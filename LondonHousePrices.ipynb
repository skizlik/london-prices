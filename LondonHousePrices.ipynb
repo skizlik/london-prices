{
 "cells": [
  {
   "cell_type": "markdown",
   "metadata": {
    "colab_type": "text",
    "id": "Tia3MP1SJpgj"
   },
   "source": [
    "# Springboard Data Science Career Track Unit 4 Challenge - Tier 3 Complete\n",
    "\n",
    "## Objectives\n",
    "Hey! Great job getting through those challenging DataCamp courses. You're learning a lot in a short span of time. \n",
    "\n",
    "In this notebook, you're going to apply the skills you've been learning, bridging the gap between the controlled environment of DataCamp and the *slightly* messier work that data scientists do with actual datasets!\n",
    "\n",
    "Here’s the mystery we’re going to solve: ***which boroughs of London have seen the greatest increase in housing prices, on average, over the last two decades?***\n",
    "\n",
    "\n",
    "A borough is just a fancy word for district. You may be familiar with the five boroughs of New York… well, there are 32 boroughs within Greater London [(here's some info for the curious)](https://en.wikipedia.org/wiki/London_boroughs). Some of them are more desirable areas to live in, and the data will reflect that with a greater rise in housing prices.\n",
    "\n",
    "***This is the Tier 3 notebook, which means it's not filled in at all: we'll just give you the skeleton of a project, the brief and the data. It's up to you to play around with it and see what you can find out! Good luck! If you struggle, feel free to look at easier tiers for help; but try to dip in and out of them, as the more independent work you do, the better it is for your learning!***\n",
    "\n",
    "This challenge will make use of only what you learned in the following DataCamp courses: \n",
    "- Prework courses (Introduction to Python for Data Science, Intermediate Python for Data Science)\n",
    "- Data Types for Data Science\n",
    "- Python Data Science Toolbox (Part One) \n",
    "- pandas Foundations\n",
    "- Manipulating DataFrames with pandas\n",
    "- Merging DataFrames with pandas\n",
    "\n",
    "Of the tools, techniques and concepts in the above DataCamp courses, this challenge should require the application of the following: \n",
    "- **pandas**\n",
    "    - **data ingestion and inspection** (pandas Foundations, Module One) \n",
    "    - **exploratory data analysis** (pandas Foundations, Module Two)\n",
    "    - **tidying and cleaning** (Manipulating DataFrames with pandas, Module Three) \n",
    "    - **transforming DataFrames** (Manipulating DataFrames with pandas, Module One)\n",
    "    - **subsetting DataFrames with lists** (Manipulating DataFrames with pandas, Module One) \n",
    "    - **filtering DataFrames** (Manipulating DataFrames with pandas, Module One) \n",
    "    - **grouping data** (Manipulating DataFrames with pandas, Module Four) \n",
    "    - **melting data** (Manipulating DataFrames with pandas, Module Three) \n",
    "    - **advanced indexing** (Manipulating DataFrames with pandas, Module Four) \n",
    "- **matplotlib** (Intermediate Python for Data Science, Module One)\n",
    "- **fundamental data types** (Data Types for Data Science, Module One) \n",
    "- **dictionaries** (Intermediate Python for Data Science, Module Two)\n",
    "- **handling dates and times** (Data Types for Data Science, Module Four)\n",
    "- **function definition** (Python Data Science Toolbox - Part One, Module One)\n",
    "- **default arguments, variable length, and scope** (Python Data Science Toolbox - Part One, Module Two) \n",
    "- **lambda functions and error handling** (Python Data Science Toolbox - Part One, Module Four) "
   ]
  },
  {
   "cell_type": "markdown",
   "metadata": {
    "colab_type": "text",
    "id": "Ipgd2nV8Jpgl"
   },
   "source": [
    "## The Data Science Pipeline\n",
    "\n",
    "This is Tier Three, so we'll get you started. But after that, it's all in your hands! When you feel done with your investigations, look back over what you've accomplished, and prepare a quick presentation of your findings for the next mentor meeting. \n",
    "\n",
    "Data Science is magical. In this case study, you'll get to apply some complex machine learning algorithms. But as  [David Spiegelhalter](https://www.youtube.com/watch?v=oUs1uvsz0Ok) reminds us, there is no substitute for simply **taking a really, really good look at the data.** Sometimes, this is all we need to answer our question.\n",
    "\n",
    "Data Science projects generally adhere to the four stages of Data Science Pipeline:\n",
    "1. Sourcing and loading \n",
    "2. Cleaning, transforming, and visualizing \n",
    "3. Modeling \n",
    "4. Evaluating and concluding \n"
   ]
  },
  {
   "cell_type": "markdown",
   "metadata": {
    "colab_type": "text",
    "id": "zswDqbefJpgm"
   },
   "source": [
    "### 1. Sourcing and Loading \n",
    "\n",
    "Any Data Science project kicks off by importing  ***pandas***. The documentation of this wonderful library can be found [here](https://pandas.pydata.org/). As you've seen, pandas is conveniently connected to the [Numpy](http://www.numpy.org/) and [Matplotlib](https://matplotlib.org/) libraries. \n",
    "\n",
    "***Hint:*** This part of the data science pipeline will test those skills you acquired in the pandas Foundations course, Module One. "
   ]
  },
  {
   "cell_type": "markdown",
   "metadata": {
    "colab_type": "text",
    "id": "aEau5nEvJpgm"
   },
   "source": [
    "#### 1.1. Importing Libraries"
   ]
  },
  {
   "cell_type": "code",
   "execution_count": 695,
   "metadata": {
    "colab": {},
    "colab_type": "code",
    "id": "7Bt_Q_oPJpgn"
   },
   "outputs": [],
   "source": [
    "# Let's import the pandas, numpy libraries as pd, and np respectively. \n",
    "\n",
    "import numpy as np\n",
    "import pandas as pd\n",
    "\n",
    "\n",
    "# Load the pyplot collection of functions from matplotlib, as plt \n",
    "\n",
    "from matplotlib import pyplot as plt\n"
   ]
  },
  {
   "cell_type": "markdown",
   "metadata": {
    "colab_type": "text",
    "id": "koUrawxsJpgq"
   },
   "source": [
    "#### 1.2.  Loading the data\n",
    "Your data comes from the [London Datastore](https://data.london.gov.uk/): a free, open-source data-sharing portal for London-oriented datasets. "
   ]
  },
  {
   "cell_type": "code",
   "execution_count": 696,
   "metadata": {
    "colab": {},
    "colab_type": "code",
    "id": "AiLiD4v3Jpgr"
   },
   "outputs": [],
   "source": [
    "# First, make a variable called url_LondonHousePrices, and assign it the following link, enclosed in quotation-marks as a string:\n",
    "# https://data.london.gov.uk/download/uk-house-price-index/70ac0766-8902-4eb5-aab5-01951aaed773/UK%20House%20price%20index.xls\n",
    "\n",
    "url_LondonHousePrices = \"https://data.london.gov.uk/download/uk-house-price-index/70ac0766-8902-4eb5-aab5-01951aaed773/UK%20House%20price%20index.xls\"\n",
    "\n",
    "# The dataset we're interested in contains the Average prices of the houses, and is actually on a particular sheet of the Excel file. \n",
    "# As a result, we need to specify the sheet name in the read_excel() method.\n",
    "# Put this data into a variable called properties.  \n",
    "properties = pd.read_excel(url_LondonHousePrices, sheet_name='Average price', index_col= None)\n",
    "\n",
    "\n"
   ]
  },
  {
   "cell_type": "markdown",
   "metadata": {
    "colab_type": "text",
    "id": "POukEJXgJpgu"
   },
   "source": [
    "### 2. Cleaning, transforming, and visualizing\n",
    "This second stage is arguably the most important part of any Data Science project. The first thing to do is take a proper look at the data. Cleaning forms the majority of this stage, and can be done both before or after Transformation.\n",
    "\n",
    "The end goal of data cleaning is to have tidy data. When data is tidy: \n",
    "\n",
    "1. Each variable has a column.\n",
    "2. Each observation forms a row.\n",
    "\n",
    "Keep the end goal in mind as you move through this process, every step will take you closer. \n",
    "\n",
    "\n",
    "\n",
    "***Hint:*** This part of the data science pipeline should test those skills you acquired in: \n",
    "- Intermediate Python for data science, all modules.\n",
    "- pandas Foundations, all modules. \n",
    "- Manipulating DataFrames with pandas, all modules.\n",
    "- Data Types for Data Science, Module Four.\n",
    "- Python Data Science Toolbox - Part One, all modules"
   ]
  },
  {
   "cell_type": "markdown",
   "metadata": {
    "colab_type": "text",
    "id": "Te0Q548tnzZa"
   },
   "source": [
    "**2.1. Exploring your data** \n",
    "\n",
    "Think about your pandas functions for checking out a dataframe. "
   ]
  },
  {
   "cell_type": "code",
   "execution_count": 697,
   "metadata": {
    "colab": {},
    "colab_type": "code",
    "id": "Rxirxw_qoAJa"
   },
   "outputs": [
    {
     "name": "stdout",
     "output_type": "stream",
     "text": [
      "  Unnamed: 0 City of London Barking & Dagenham     Barnet     Bexley  \\\n",
      "0        NaT      E09000001          E09000002  E09000003  E09000004   \n",
      "1 1995-01-01          91449            50460.2    93284.5    64958.1   \n",
      "2 1995-02-01        82202.8            51085.8    93190.2    64787.9   \n",
      "3 1995-03-01        79120.7              51269    92247.5    64367.5   \n",
      "4 1995-04-01        77101.2            53133.5    90762.9    64277.7   \n",
      "\n",
      "       Brent    Bromley     Camden    Croydon     Ealing  ... NORTH WEST  \\\n",
      "0  E09000005  E09000006  E09000007  E09000008  E09000009  ...  E12000002   \n",
      "1    71306.6    81671.5     120933    69158.2    79885.9  ...    43958.5   \n",
      "2    72022.3    81657.6     119509    68951.1    80897.1  ...    43925.4   \n",
      "3    72015.8    81449.3     120282    68712.4    81379.9  ...    44434.9   \n",
      "4    72965.6    81124.4     120098      68610    82188.9  ...    44267.8   \n",
      "\n",
      "  YORKS & THE HUMBER EAST MIDLANDS WEST MIDLANDS EAST OF ENGLAND     LONDON  \\\n",
      "0          E12000003     E12000004     E12000005       E12000006  E12000007   \n",
      "1            44803.4       45544.5       48527.5         56701.6    74435.8   \n",
      "2            44528.8       46051.6       49341.3         56593.6    72777.9   \n",
      "3            45200.5       45383.8       49442.2         56171.2    73896.8   \n",
      "4            45614.3       46124.2       49455.9         56567.9    74455.3   \n",
      "\n",
      "  SOUTH EAST SOUTH WEST Unnamed: 47    England  \n",
      "0  E12000008  E12000009         NaN  E92000001  \n",
      "1    64018.9    54705.2         NaN    53202.8  \n",
      "2      63715    54356.1         NaN    53096.2  \n",
      "3    64113.6    53583.1         NaN    53201.3  \n",
      "4    64623.2      54786         NaN    53590.9  \n",
      "\n",
      "[5 rows x 49 columns]\n"
     ]
    }
   ],
   "source": [
    "\n",
    "print(properties.head())\n",
    "\n",
    "# NOTE:  file contains 49 columns, there are 32 boroughs of London! Obviously, there are non-boroughs.\n",
    "# *** The City of London (a really unique kind of municipality it turns out) is technically not a \n",
    "# borough, but it seems almost always to be treated like one.  I'm going to consider it as one for \n",
    "# the purposes of this exercise.\n"
   ]
  },
  {
   "cell_type": "markdown",
   "metadata": {
    "colab_type": "text",
    "id": "tE9Sqt9-oAta"
   },
   "source": [
    "**2.2. Cleaning the data**\n",
    "\n",
    "You might find you need to transpose your dataframe, check out what its row indexes are, and reset the index. You  also might find you need to assign the values of the first row to your column headings  . (Hint: recall the .columns feature of DataFrames, as well as the iloc[] method).\n",
    "\n",
    "Don't be afraid to use StackOverflow for help  with this."
   ]
  },
  {
   "cell_type": "code",
   "execution_count": 698,
   "metadata": {
    "colab": {},
    "colab_type": "code",
    "id": "cdAu1A3YoH_r"
   },
   "outputs": [
    {
     "name": "stdout",
     "output_type": "stream",
     "text": [
      "Unnamed: 0                NaT 1995-01-01 1995-02-01 1995-03-01 1995-04-01  \\\n",
      "City of London      E09000001      91449    82202.8    79120.7    77101.2   \n",
      "Barking & Dagenham  E09000002    50460.2    51085.8      51269    53133.5   \n",
      "Barnet              E09000003    93284.5    93190.2    92247.5    90762.9   \n",
      "Bexley              E09000004    64958.1    64787.9    64367.5    64277.7   \n",
      "Brent               E09000005    71306.6    72022.3    72015.8    72965.6   \n",
      "\n",
      "Unnamed: 0         1995-05-01 1995-06-01 1995-07-01 1995-08-01 1995-09-01  \\\n",
      "City of London        84409.1    94900.5     110128     112329     104473   \n",
      "Barking & Dagenham    53042.2    53700.3    52113.1    52232.2    51471.6   \n",
      "Barnet                  90258    90107.2    91441.2    92361.3    93273.1   \n",
      "Bexley                63997.1    64252.3    63722.7    64432.6    64509.5   \n",
      "Brent                   73704    74310.5      74127      73547    73789.5   \n",
      "\n",
      "Unnamed: 0          ... 2020-03-01 2020-04-01 2020-05-01 2020-06-01  \\\n",
      "City of London      ...     836241     920444     918209     882872   \n",
      "Barking & Dagenham  ...     301413     293603     293816     300526   \n",
      "Barnet              ...     522115     526689     526033     518175   \n",
      "Bexley              ...     339182     341553     339353     340893   \n",
      "Brent               ...     466250     470601     482808     484160   \n",
      "\n",
      "Unnamed: 0         2020-07-01 2020-08-01 2020-09-01 2020-10-01 2020-11-01  \\\n",
      "City of London         786627     798227     774654     813356     788715   \n",
      "Barking & Dagenham     304556     304336     302165     305197     306987   \n",
      "Barnet                 523280     527952     536177     534081     535055   \n",
      "Bexley                 344091     346997     345829     346656     350585   \n",
      "Brent                  482303     493930     519117     523644     517569   \n",
      "\n",
      "Unnamed: 0         2020-12-01  \n",
      "City of London         784006  \n",
      "Barking & Dagenham     317947  \n",
      "Barnet                 534719  \n",
      "Bexley                 354466  \n",
      "Brent                  496316  \n",
      "\n",
      "[5 rows x 313 columns]\n",
      "Index(['City of London', 'Barking & Dagenham', 'Barnet', 'Bexley', 'Brent',\n",
      "       'Bromley', 'Camden', 'Croydon', 'Ealing', 'Enfield', 'Greenwich',\n",
      "       'Hackney', 'Hammersmith & Fulham', 'Haringey', 'Harrow', 'Havering',\n",
      "       'Hillingdon', 'Hounslow', 'Islington', 'Kensington & Chelsea',\n",
      "       'Kingston upon Thames', 'Lambeth', 'Lewisham', 'Merton', 'Newham',\n",
      "       'Redbridge', 'Richmond upon Thames', 'Southwark', 'Sutton',\n",
      "       'Tower Hamlets', 'Waltham Forest', 'Wandsworth', 'Westminster',\n",
      "       'Unnamed: 34', 'Inner London', 'Outer London', 'Unnamed: 37',\n",
      "       'NORTH EAST', 'NORTH WEST', 'YORKS & THE HUMBER', 'EAST MIDLANDS',\n",
      "       'WEST MIDLANDS', 'EAST OF ENGLAND', 'LONDON', 'SOUTH EAST',\n",
      "       'SOUTH WEST', 'Unnamed: 47', 'England'],\n",
      "      dtype='object')\n",
      "Elements in web list of London boroughs: 33\n",
      "Rows in dataframe: 48\n",
      "Boroughs in the dataframe not in the web list: ['Hammersmith & Fulham', 'YORKS & THE HUMBER', 'NORTH WEST', 'Unnamed: 34', 'Inner London', 'EAST MIDLANDS', 'WEST MIDLANDS', 'Unnamed: 47', 'SOUTH EAST', 'England', 'Kensington & Chelsea', 'Unnamed: 37', 'LONDON', 'NORTH EAST', 'SOUTH WEST', 'EAST OF ENGLAND', 'Barking & Dagenham', 'Outer London']\n",
      "Boroughs in the web list not in the dataframe: ['Kensington and Chelsea', 'Barking and Dagenham', 'Hammersmith and Fulham']\n"
     ]
    }
   ],
   "source": [
    "boroughs = properties.transpose()\n",
    "boroughs.columns = boroughs.iloc[0,:]\n",
    "boroughs = boroughs.drop(boroughs.index[0])\n",
    "\n",
    "# resetting the index turned out to complicate things at this stage... hmmm...\n",
    "# boroughs = boroughs.reset_index()\n",
    "\n",
    "print(boroughs.head())\n",
    "print(boroughs.index)\n",
    "\n",
    "# from https://data.london.gov.uk/, a list of the true boroughs of London, but including City of\n",
    "# London, technically not a borough:\n",
    "\n",
    "true_boroughs = ['City of London', 'Barking and Dagenham', 'Barnet', 'Bexley', 'Brent', 'Bromley', 'Camden', 'Croydon', 'Ealing', 'Enfield', 'Greenwich', 'Hackney', 'Hammersmith and Fulham', 'Haringey', 'Harrow', 'Havering', 'Hillingdon', 'Hounslow', 'Islington', 'Kensington and Chelsea', 'Kingston upon Thames', 'Lambeth', 'Lewisham', 'Merton', 'Newham', 'Redbridge', 'Richmond upon Thames', 'Southwark', 'Sutton', 'Tower Hamlets', 'Waltham Forest', 'Wandsworth', 'Westminster']\n",
    "\n",
    "# are there any boroughs listed in the above list that are NOT in the dataframe?  and vice-versa?  \n",
    "# a basic exploration:\n",
    "\n",
    "print(\"Elements in web list of London boroughs:\", len(true_boroughs))\n",
    "print(\"Rows in dataframe:\", len(boroughs.index))\n",
    "b_set = set(boroughs.index)\n",
    "true_b_set = set(true_boroughs)\n",
    "df_not_list = b_set.difference(true_b_set)\n",
    "list_not_df = true_b_set.difference(b_set)\n",
    "print(\"Boroughs in the dataframe not in the web list:\", list(df_not_list))\n",
    "print(\"Boroughs in the web list not in the dataframe:\", list(list_not_df))"
   ]
  },
  {
   "cell_type": "code",
   "execution_count": 699,
   "metadata": {},
   "outputs": [],
   "source": [
    "# The approach I'm going to take is to filter boroughs for the actual boroughs of London provided in \n",
    "# the list from the web.  Also I'm going to have to replace the ampersand with the word \"and\"...\n",
    "# None of the regions listed in all caps are boroughs; a cursory web search shows them to be variously\n",
    "# groups of boroughs, such as outer London, and other regions of England, such as the West Midlands.  It might be interesting to create a seperate dataframe for comparison on this level.\n",
    "# Also it's strange that there are three regions that are 'unnamed' which have NaN's everywhere, hard\n",
    "# to explain why they're even there but it seems obvious they should be discarded.\n"
   ]
  },
  {
   "cell_type": "markdown",
   "metadata": {
    "colab_type": "text",
    "id": "o1uLbJAsoIjK"
   },
   "source": [
    "**2.3. Cleaning the data (part 2)**\n",
    "\n",
    "You might we have to **rename** a couple columns. How do you do this? The clue's pretty bold...\n"
   ]
  },
  {
   "cell_type": "code",
   "execution_count": 700,
   "metadata": {
    "colab": {},
    "colab_type": "code",
    "id": "GKkmn1AnoVZS"
   },
   "outputs": [
    {
     "name": "stdout",
     "output_type": "stream",
     "text": [
      "Unnamed: 0         1995-01-01 1995-02-01 1995-03-01 1995-04-01 1995-05-01  \\\n",
      "City of London          91449    82202.8    79120.7    77101.2    84409.1   \n",
      "Barking & Dagenham    50460.2    51085.8      51269    53133.5    53042.2   \n",
      "Barnet                93284.5    93190.2    92247.5    90762.9      90258   \n",
      "Bexley                64958.1    64787.9    64367.5    64277.7    63997.1   \n",
      "Brent                 71306.6    72022.3    72015.8    72965.6      73704   \n",
      "\n",
      "Unnamed: 0         1995-06-01 1995-07-01 1995-08-01 1995-09-01 1995-10-01  \\\n",
      "City of London        94900.5     110128     112329     104473     108038   \n",
      "Barking & Dagenham    53700.3    52113.1    52232.2    51471.6    51513.8   \n",
      "Barnet                90107.2    91441.2    92361.3    93273.1    92567.4   \n",
      "Bexley                64252.3    63722.7    64432.6    64509.5    64529.9   \n",
      "Brent                 74310.5      74127      73547    73789.5    73264.1   \n",
      "\n",
      "Unnamed: 0          ... 2020-03-01 2020-04-01 2020-05-01 2020-06-01  \\\n",
      "City of London      ...     836241     920444     918209     882872   \n",
      "Barking & Dagenham  ...     301413     293603     293816     300526   \n",
      "Barnet              ...     522115     526689     526033     518175   \n",
      "Bexley              ...     339182     341553     339353     340893   \n",
      "Brent               ...     466250     470601     482808     484160   \n",
      "\n",
      "Unnamed: 0         2020-07-01 2020-08-01 2020-09-01 2020-10-01 2020-11-01  \\\n",
      "City of London         786627     798227     774654     813356     788715   \n",
      "Barking & Dagenham     304556     304336     302165     305197     306987   \n",
      "Barnet                 523280     527952     536177     534081     535055   \n",
      "Bexley                 344091     346997     345829     346656     350585   \n",
      "Brent                  482303     493930     519117     523644     517569   \n",
      "\n",
      "Unnamed: 0         2020-12-01  \n",
      "City of London         784006  \n",
      "Barking & Dagenham     317947  \n",
      "Barnet                 534719  \n",
      "Bexley                 354466  \n",
      "Brent                  496316  \n",
      "\n",
      "[5 rows x 312 columns]\n",
      "Unnamed: 0\n",
      "1995-01-01    50460.2\n",
      "1995-02-01    51085.8\n",
      "1995-03-01      51269\n",
      "1995-04-01    53133.5\n",
      "1995-05-01    53042.2\n",
      "               ...   \n",
      "2020-08-01     304336\n",
      "2020-09-01     302165\n",
      "2020-10-01     305197\n",
      "2020-11-01     306987\n",
      "2020-12-01     317947\n",
      "Name: Barking and Dagenham, Length: 312, dtype: object\n",
      "total # of NaN in dataframe: 0\n"
     ]
    }
   ],
   "source": [
    "# DROPPING THE OBVIOUSLY NONINFORMATIVE ROWS\n",
    "boroughs = boroughs.drop(['Unnamed: 34', 'Unnamed: 37', 'Unnamed: 47'])\n",
    "\n",
    "\n",
    "# DROPPING THE NOT-USEFUL-HERE 'NaT' COLUMN\n",
    "boroughs = boroughs.drop(boroughs.columns[0], axis=1)\n",
    "print(boroughs.head())\n",
    "\n",
    "# RENAMING THE OBVIOUSLY CORRESPONDING BOROUGHS\n",
    "# Ok, for the three cases that present themselves here, doing it manually is reasonable.  \n",
    "# What if there were thousands?  It can't be too hard to replace '&' with 'and' using regex.\n",
    "# ^^^^^^^ DO THIS LATER IF YOU HAVE TIME ^^^^^^^\n",
    "boroughs = boroughs.rename(index = {'Hammersmith & Fulham':'Hammersmith and Fulham',\n",
    "                             'Barking & Dagenham':'Barking and Dagenham',\n",
    "                             'Kensington & Chelsea':'Kensington and Chelsea'})\n",
    "\n",
    "# Verify that this did what I think it did:\n",
    "print(boroughs.loc[\"Barking and Dagenham\"])\n",
    "\n",
    "# Do we have any null values remaining after dropping those rows?\n",
    "print(\"total # of NaN in dataframe:\", boroughs.isnull().sum().sum())\n"
   ]
  },
  {
   "cell_type": "markdown",
   "metadata": {
    "colab_type": "text",
    "id": "jy8BzXHmoWEw"
   },
   "source": [
    "**2.4.Transforming the data**\n",
    "\n",
    "Remember what Wes McKinney said about tidy data? \n",
    "\n",
    "You might need to **melt** your DataFrame here. "
   ]
  },
  {
   "cell_type": "code",
   "execution_count": 701,
   "metadata": {
    "colab": {},
    "colab_type": "code",
    "id": "S2wM0qLuo2Zt"
   },
   "outputs": [
    {
     "name": "stdout",
     "output_type": "stream",
     "text": [
      "[ True  True  True  True  True  True  True  True  True  True  True  True\n",
      "  True  True  True  True  True  True  True  True  True  True  True  True\n",
      "  True  True  True  True  True  True  True  True  True False False False\n",
      " False False False False False False False False False]\n",
      "<class 'numpy.ndarray'>\n"
     ]
    }
   ],
   "source": [
    "# For the life of me, after much examination, I fail to see what is to be gained by melting the \n",
    "# dataframe.  The objective is to identify the boroughs with the highest average price increases \n",
    "# over the span of the data, but why would this require a melt?\n",
    "# Why would any of the other things I want to do require a melt?  Also, I'm still a little \n",
    "# uncertain on the differences between a melt and a transposition, with just one index.\n",
    "\n",
    "# Instead:  I'm going to create an indicator variable that's True if the row represents a borough.  \n",
    "# I can see that, at this point, most of the non-borough (including City of London) elements have ALL\n",
    "# CAPS names; I could take advantage of this.  But I think it would probably be better to figure out \n",
    "# how to compare the borough name with the true_boroughs list.\n",
    "# this fails:  boroughs['is_a_borough'] = boroughs.index in true_boroughs\n",
    "is_a_borough = boroughs.index.isin(true_boroughs)\n",
    "\n",
    "# hold of on this for now:\n",
    "#boroughs[\"is_borough\"] = boroughs.index.isin(true_boroughs)\n",
    "print(is_a_borough)\n",
    "print(type(is_a_borough))\n"
   ]
  },
  {
   "cell_type": "markdown",
   "metadata": {
    "colab_type": "text",
    "id": "7kIsgAo7o3mf"
   },
   "source": [
    "Remember to make sure your column data types are all correct. Average prices, for example, should be floating point numbers... "
   ]
  },
  {
   "cell_type": "code",
   "execution_count": 702,
   "metadata": {
    "colab": {},
    "colab_type": "code",
    "id": "ZcR4IHbcpOaq"
   },
   "outputs": [
    {
     "name": "stdout",
     "output_type": "stream",
     "text": [
      "<class 'pandas.core.frame.DataFrame'>\n",
      "Index: 45 entries, City of London to England\n",
      "Columns: 312 entries, 1995-01-01 to 2020-12-01\n",
      "dtypes: object(312)\n",
      "memory usage: 111.3+ KB\n",
      "None\n",
      "floats: 0 bools: 0 other: 13950 total: 13950\n"
     ]
    }
   ],
   "source": [
    "# It's now clear that the original data set was organized to have the boroughs first.  I could drop \n",
    "# all the last columns to get a dataframe with just the boroughs, but I might want to look at the \n",
    "# regional figures for comparison, and it shouldn't be too hard to include a condition based on this \n",
    "# boolean.\n",
    "# However, let's make sure the data types are correct...\n",
    "\n",
    "print(boroughs.info())  \n",
    "\n",
    "# shows 45 entries (33 boroughs (inc CoL) and 12 regions) and 311 observations for each, strangely, \n",
    "# though, dtypes are bool(1) and object(310)\n",
    "# are the values floating-point numbers?  because they sure look like floating-point numbers...\n",
    "# I'm sure a loop is not the optimal way to check this!\n",
    "total, floats, bools, other = 0, 0, 0, 0\n",
    "for i in range(45):\n",
    "    for j in range(310):\n",
    "        total += 1\n",
    "        if type(boroughs.iloc[i,j]) == \"<class 'float'>\":\n",
    "            floats += 1\n",
    "        elif type(boroughs.iloc[i,j]) == \"<class 'numpy.bool_'>\":\n",
    "            bools += 1\n",
    "        else:\n",
    "            other += 1\n",
    "            \n",
    "print(\"floats:\", floats, \"bools:\", bools, \"other:\", other, \"total:\", total)\n",
    "\n",
    "# It's very odd that, if I call the type() function on the known boolean elements, I get \"<class \n",
    "# 'numpy.bool_'>\" but the elif statement fails to match any of them.  While it works fine for the \n",
    "# floats, and indeed is counting the booleans as floats!  Why??\n",
    "# ^^^^^^^^ THIS IS VERY UNEXPECTED AND I NEED TO FIGURE OUT WHAT'S GOING ON HERE!\n",
    "\n",
    "# Update:  now it's \"<class 'float'>\" that is somehow not matching in the if statement.. all of them\n",
    "# being counted as 'other' here. What's going on with this?  Plainly they are all floats?\n",
    "\n",
    "# However, I am quite assured that I will be able to do floating-point arithmetic with these values.\n",
    "\n",
    "\n",
    "\n"
   ]
  },
  {
   "cell_type": "markdown",
   "metadata": {
    "colab_type": "text",
    "id": "knLUXHLypOtw"
   },
   "source": [
    "**2.5. Cleaning the data (part 3)**\n",
    "\n",
    "Do we have an equal number of observations in the ID, Average Price, Month, and London Borough columns? Remember that there are only 32 London Boroughs. How many entries do you have in that column? \n",
    "\n",
    "Check out the contents of the London Borough column, and if you find null values, get rid of them however you see fit. "
   ]
  },
  {
   "cell_type": "code",
   "execution_count": 703,
   "metadata": {
    "colab": {},
    "colab_type": "code",
    "id": "BnvTW5a3p0fC"
   },
   "outputs": [],
   "source": [
    "# I have essentially already done this; the superfluous 'unnamed' rows were dropped, and a quick check\n",
    "# showed the dataframe has no null values.\n"
   ]
  },
  {
   "cell_type": "markdown",
   "metadata": {
    "colab_type": "text",
    "id": "PGEx6mJsp6dG"
   },
   "source": [
    "**2.6. Visualizing the data**\n",
    "\n",
    "To visualize the data, why not subset on a particular London Borough? Maybe do a line plot of Month against Average Price?"
   ]
  },
  {
   "cell_type": "code",
   "execution_count": 704,
   "metadata": {
    "colab": {},
    "colab_type": "code",
    "id": "nAg5pT9cqHAR"
   },
   "outputs": [
    {
     "name": "stdout",
     "output_type": "stream",
     "text": [
      "Unnamed: 0\n",
      "2020-08-01    346997\n",
      "2020-09-01    345829\n",
      "2020-10-01    346656\n",
      "2020-11-01    350585\n",
      "2020-12-01    354466\n",
      "Name: Bexley, dtype: object\n"
     ]
    },
    {
     "data": {
      "text/plain": [
       "Text(0, 0.5, 'average price')"
      ]
     },
     "execution_count": 704,
     "metadata": {},
     "output_type": "execute_result"
    },
    {
     "data": {
      "image/png": "[encoded data removed]",
      "text/plain": [
       "<Figure size 432x288 with 1 Axes>"
      ]
     },
     "metadata": {
      "needs_background": "light"
     },
     "output_type": "display_data"
    }
   ],
   "source": [
    "# I am very frustrated with my efforts to plot from the dataframe in its present configuration. \n",
    "# It strikes me as obviously more intuitive to have the boroughs as rows, the prices as columns.  \n",
    "# After all, what is the fundamental entity this table treats?  Is it boroughs, such as \"Camden\", \n",
    "# or datetimes, such as \"1999-03-01\"?  The answer seems obvious to me.\n",
    "# Regrettably, I am giving up on these efforts and just transposing the dataframe.  \n",
    "# Just looking at it in its transposed format irks me, it seems unnatural.\n",
    "\n",
    "boroughs = boroughs.T\n",
    "print(boroughs[\"Bexley\"].tail())\n",
    "\n",
    "# ok, let's try making some graphs:\n",
    "\n",
    "bexley_prices = boroughs[\"Bexley\"]\n",
    "bexplt = bexley_prices.plot(title=\"Average Price for Bexley\")\n",
    "bexplt.set_xlabel(\"month and year\")\n",
    "bexplt.set_ylabel(\"average price\")\n",
    "\n",
    "\n",
    "hackney_prices = boroughs[\"Hackney\"]\n",
    "hakplt = hackney_prices.plot(title=\"Average Price for Hackney\")\n",
    "hakplt.set_xlabel(\"month and year\")\n",
    "hakplt.set_ylabel(\"average price\")"
   ]
  },
  {
   "cell_type": "markdown",
   "metadata": {
    "colab_type": "text",
    "id": "aWTPqSJeqHnC"
   },
   "source": [
    "To limit the number of data points you have, you might want to extract the year from every month value your *Month* column. \n",
    "\n",
    "To this end, you *could* apply a ***lambda function***. Your logic could work as follows:\n",
    "1. look through the `Month` column\n",
    "2. extract the year from each individual value in that column \n",
    "3. store that corresponding year as separate column. \n",
    "\n",
    "Whether you go ahead with this is up to you. Just so long as you answer our initial brief: which boroughs of London have seen the greatest house price increase, on average, over the past two decades? "
   ]
  },
  {
   "cell_type": "code",
   "execution_count": 705,
   "metadata": {
    "colab": {},
    "colab_type": "code",
    "id": "e0DF92cyqnu8"
   },
   "outputs": [],
   "source": [
    "# Again, I am baffled as to the motivation for removing data points for this exercise.  The change in \n",
    "# average house price can simply be computed by taking the ratio of the first and last observations \n",
    "# over that time inverval, no?\n",
    "    "
   ]
  },
  {
   "cell_type": "markdown",
   "metadata": {
    "colab_type": "text",
    "id": "2knuTxAEqoJ4"
   },
   "source": [
    "**3. Modeling**\n",
    "\n",
    "Consider creating a function that will calculate a ratio of house prices, comparing the price of a house in 2018 to the price in 1998.\n",
    "\n",
    "Consider calling this function create_price_ratio.\n",
    "\n",
    "You'd want this function to:\n",
    "1. Take a filter of dfg, specifically where this filter constrains the London_Borough, as an argument. For example, one admissible argument should be: dfg[dfg['London_Borough']=='Camden'].\n",
    "2. Get the Average Price for that Borough, for the years 1998 and 2018.\n",
    "4. Calculate the ratio of the Average Price for 1998 divided by the Average Price for 2018.\n",
    "5. Return that ratio.\n",
    "\n",
    "Once you've written this function, you ultimately want to use it to iterate through all the unique London_Boroughs and work out the ratio capturing the difference of house prices between 1998 and 2018.\n",
    "\n",
    "Bear in mind: you don't have to write a function like this if you don't want to. If you can solve the brief otherwise, then great! \n",
    "\n",
    "***Hint***: This section should test the skills you acquired in:\n",
    "- Python Data Science Toolbox - Part One, all modules"
   ]
  },
  {
   "cell_type": "code",
   "execution_count": 706,
   "metadata": {
    "colab": {},
    "colab_type": "code",
    "id": "cKTyr437UgDa"
   },
   "outputs": [
    {
     "name": "stdout",
     "output_type": "stream",
     "text": [
      "Hackney                   10.164208\n",
      "City of London             8.573148\n",
      "Lambeth                    8.095794\n",
      "Waltham Forest             7.920429\n",
      "Tower Hamlets              7.875111\n",
      "Southwark                  7.647354\n",
      "Inner London               7.600438\n",
      "Haringey                   7.452865\n",
      "Lewisham                   7.402435\n",
      "Newham                     7.148983\n",
      "Islington                  7.067829\n",
      "Kensington and Chelsea     7.053514\n",
      "Westminster                6.991681\n",
      "Wandsworth                 6.984388\n",
      "Brent                      6.960316\n",
      "Merton                     6.886908\n",
      "LONDON                     6.664353\n",
      "Camden                     6.647558\n",
      "Greenwich                  6.547950\n",
      "Richmond upon Thames       6.486534\n",
      "Barking and Dagenham       6.300942\n",
      "Kingston upon Thames       6.291125\n",
      "Ealing                     6.272082\n",
      "Redbridge                  6.171881\n",
      "Outer London               6.129311\n",
      "Hammersmith and Fulham     5.742865\n",
      "Barnet                     5.732132\n",
      "Enfield                    5.724713\n",
      "Hounslow                   5.715397\n",
      "Hillingdon                 5.681658\n",
      "Bromley                    5.636743\n",
      "Havering                   5.624844\n",
      "Sutton                     5.572493\n",
      "Harrow                     5.572394\n",
      "Croydon                    5.542261\n",
      "EAST OF ENGLAND            5.483305\n",
      "Bexley                     5.456844\n",
      "SOUTH EAST                 5.326661\n",
      "SOUTH WEST                 5.162008\n",
      "England                    5.058943\n",
      "EAST MIDLANDS              4.721672\n",
      "WEST MIDLANDS              4.470667\n",
      "NORTH WEST                 4.179554\n",
      "YORKS & THE HUMBER         4.082427\n",
      "NORTH EAST                 3.354723\n",
      "Name: Price Ratio, dtype: float64\n",
      "count    45.000000\n",
      "mean      6.292877\n",
      "std       1.277288\n",
      "min       3.354723\n",
      "25%       5.572394\n",
      "50%       6.272082\n",
      "75%       7.053514\n",
      "max      10.164208\n",
      "Name: Price Ratio, dtype: float64\n"
     ]
    },
    {
     "data": {
      "text/plain": [
       "<matplotlib.axes._subplots.AxesSubplot at 0x1acae49b548>"
      ]
     },
     "execution_count": 706,
     "metadata": {},
     "output_type": "execute_result"
    },
    {
     "data": {
      "image/png": "[encoded data removed]",
      "text/plain": [
       "<Figure size 432x288 with 1 Axes>"
      ]
     },
     "metadata": {
      "needs_background": "light"
     },
     "output_type": "display_data"
    }
   ],
   "source": [
    "# I was under the impression that there were ways to do this far more elegant and computationally\n",
    "# light than iterating a function over a list... let me see if I can make that happen.\n",
    "# transposing the df back so that the boroughs are rows\n",
    "\n",
    "boroughs = boroughs.T\n",
    "# this effort failed to produce results that were typed as floats!\n",
    "# boroughs[\"Price Ratio\"] = boroughs[\"2020-12-01\"] / boroughs[\"1995-01-01\"]\n",
    "\n",
    "boroughs[\"Price Ratio\"] = boroughs.apply(lambda row: row[\"2020-12-01\"] / row[\"1995-01-01\"], axis=1)\n",
    "print(boroughs[\"Price Ratio\"].sort_values(ascending=False))\n",
    "print(boroughs[\"Price Ratio\"].describe())\n",
    "\n",
    "# a boxplot would be a good way to visualize these\n",
    "boroughs.boxplot(column=\"Price Ratio\")\n",
    "\n",
    "# note that these results include non-boroughs, including a row representing all of England."
   ]
  },
  {
   "cell_type": "markdown",
   "metadata": {
    "colab_type": "text",
    "id": "NzYUI7FxJpgv"
   },
   "source": [
    "4. Conclusion\n",
    "What can you conclude? Type out your conclusion below. \n",
    "\n",
    "Look back at your notebook. Think about how you might summarize what you have done, and prepare a quick presentation on it to your mentor at your next meeting. \n",
    "\n",
    "We hope you enjoyed this practical project. It should have consolidated your data hygiene and pandas skills by looking at a real-world problem involving just the kind of dataset you might encounter as a budding data scientist. Congratulations, and looking forward to seeing you at the next step in the course! "
   ]
  },
  {
   "cell_type": "code",
   "execution_count": 707,
   "metadata": {},
   "outputs": [
    {
     "data": {
      "text/plain": [
       "'The basic conclusion is that the greatest increase in housing prices has been seen in Hackney, followed by City of London, Lambeth, Walton Forest, and Tower Hamlets.  Indeed the boxplot shows Hackney as a clear outlier.  It turned out to not be really necessary to even filter out the non-borough elements from the dataset, as when sorted by price ratio, everything outside of the London area was toward the bottom, underscoring how much more London prices have increased compared to other regions of the country.\\n\\nPerhaps the most disturbing thing to note is that even the Northeast region, which had the lowest price ratio, saw housing prices increase by a factor of 3.35 over the 25 years covered by these data.  And for England overall, the price ratio was 5.06.  It would be interesting to compare the change in housing prices with the change in household income, if indeed these figures are available.\\n'"
      ]
     },
     "execution_count": 707,
     "metadata": {},
     "output_type": "execute_result"
    }
   ],
   "source": [
    "\"\"\"The basic conclusion is that the greatest increase in housing prices has been seen in Hackney, followed by City of London, Lambeth, Walton Forest, and Tower Hamlets.  Indeed the boxplot shows Hackney as a clear outlier.  It turned out to not be really necessary to even filter out the non-borough elements from the dataset, as when sorted by price ratio, everything outside of the London area was toward the bottom, underscoring how much more London prices have increased compared to other regions of the country.\n",
    "\n",
    "Perhaps the most disturbing thing to note is that even the Northeast region, which had the lowest price ratio, saw housing prices increase by a factor of 3.35 over the 25 years covered by these data.  And for England overall, the price ratio was 5.06.  It would be interesting to compare the change in housing prices with the change in household income, if indeed these figures are available.\n",
    "\"\"\""
   ]
  },
  {
   "cell_type": "code",
   "execution_count": null,
   "metadata": {},
   "outputs": [],
   "source": []
  }
 ],
 "metadata": {
  "colab": {
   "collapsed_sections": [],
   "name": "Springboard Data Science Career Track Unit 4 Challenge - Tier 3 Complete .ipynb",
   "provenance": []
  },
  "kernelspec": {
   "display_name": "Python 3",
   "language": "python",
   "name": "python3"
  },
  "language_info": {
   "codemirror_mode": {
    "name": "ipython",
    "version": 3
   },
   "file_extension": ".py",
   "mimetype": "text/x-python",
   "name": "python",
   "nbconvert_exporter": "python",
   "pygments_lexer": "ipython3",
   "version": "3.7.4"
  }
 },
 "nbformat": 4,
 "nbformat_minor": 1
}
